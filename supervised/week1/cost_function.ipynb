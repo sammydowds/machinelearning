{
 "cells": [
  {
   "cell_type": "markdown",
   "id": "1da39026",
   "metadata": {},
   "source": [
    "# Cost Function \n",
    "\n",
    "Measures the difference between the model's prediction and the true values. For linear regression, measure how well `w, b` fits the training data. \n",
    "\n",
    "A common function used for the cost function is the mean squarred error. \n",
    "\n",
    "$$\n",
    "J(w) = \\frac{1}{2m} \\Sigma_{i=1}^m (f_w(x^{(i)})-y^{(i)})^2\n",
    "$$"
   ]
  },
  {
   "cell_type": "markdown",
   "id": "a4815c7e",
   "metadata": {},
   "source": [
    "## Setting up example"
   ]
  },
  {
   "cell_type": "code",
   "execution_count": 22,
   "id": "c7c5d38e",
   "metadata": {},
   "outputs": [],
   "source": [
    "import numpy as np\n",
    "import matplotlib.pyplot as plt"
   ]
  },
  {
   "cell_type": "code",
   "execution_count": 29,
   "id": "563555f8",
   "metadata": {},
   "outputs": [],
   "source": [
    "w = 0.06\n",
    "b = 0\n",
    "\n",
    "def compute_model_output(x, w, b):\n",
    "    \"\"\"\n",
    "    Computes the prediction of a linear model\n",
    "    Args:\n",
    "      x (ndarray (m,)): Data, m examples \n",
    "      w,b (scalar)    : model parameters  \n",
    "    Returns\n",
    "      y (ndarray (m,)): target values\n",
    "    \"\"\"\n",
    "    m = x.shape[0]\n",
    "    f_wb = np.zeros(m)\n",
    "    for i in range(m):\n",
    "        f_wb[i] = w * x[i] + b\n",
    "    return f_wb"
   ]
  },
  {
   "cell_type": "code",
   "execution_count": 30,
   "id": "6dfe2af3",
   "metadata": {},
   "outputs": [],
   "source": [
    "# create some training data\n",
    "x_train = np.random.randint(10, size=10)\n",
    "y_train = np.random.randint(10, size=10)\n",
    "# create some output data\n",
    "tmp_f_wb = compute_model_output(x_train, w, b)"
   ]
  },
  {
   "cell_type": "code",
   "execution_count": 31,
   "id": "53191b26",
   "metadata": {},
   "outputs": [
    {
     "data": {
      "image/png": "[encoded data removed]",
      "text/plain": [
       "<Figure size 640x480 with 1 Axes>"
      ]
     },
     "metadata": {},
     "output_type": "display_data"
    }
   ],
   "source": [
    "plt.plot(x_train, tmp_f_wb, c='b',label='Our Prediction')\n",
    "plt.scatter(x_train, y_train, marker='x', c='r',label='Actual Values')\n",
    "\n",
    "plt.title(\"Housing Prices\")\n",
    "plt.ylabel('Price (in 1000s of dollars)')\n",
    "plt.xlabel('Size (1000 sqft)')\n",
    "\n",
    "plt.legend()\n",
    "plt.show()"
   ]
  },
  {
   "cell_type": "markdown",
   "id": "d26b7c83",
   "metadata": {},
   "source": [
    "## Calculating Cost Function"
   ]
  },
  {
   "cell_type": "code",
   "execution_count": 46,
   "id": "121f563c",
   "metadata": {},
   "outputs": [],
   "source": [
    "def compute_cost(x, y, w, b): \n",
    "    \"\"\"\n",
    "    Computes the cost function for linear regression.\n",
    "    \n",
    "    Args:\n",
    "      x (ndarray (m,)): Data, m examples \n",
    "      y (ndarray (m,)): target values\n",
    "      w,b (scalar)    : model parameters  \n",
    "    \n",
    "    Returns\n",
    "        total_cost (float): The cost of using w,b as the parameters for linear regression\n",
    "               to fit the data points in x and y\n",
    "    \"\"\"\n",
    "    # number of training examples\n",
    "    m = x.shape[0] \n",
    "    \n",
    "    cost_sum = 0 \n",
    "    for i in range(m): \n",
    "        f_wb = w * x[i] + b\n",
    "        cost = (f_wb - y[i]) ** 2  \n",
    "        cost_sum = cost_sum + cost  \n",
    "    total_cost = (1 / (2 * m)) * cost_sum  \n",
    "\n",
    "    return total_cost"
   ]
  },
  {
   "cell_type": "code",
   "execution_count": 48,
   "id": "9a760435",
   "metadata": {},
   "outputs": [
    {
     "data": {
      "text/plain": [
       "13.4752"
      ]
     },
     "execution_count": 48,
     "metadata": {},
     "output_type": "execute_result"
    }
   ],
   "source": [
    "tmp_cost = compute_cost(x_train, y_train, w, b)\n",
    "tmp_cost"
   ]
  },
  {
   "cell_type": "code",
   "execution_count": null,
   "id": "f6cddce9",
   "metadata": {},
   "outputs": [],
   "source": []
  }
 ],
 "metadata": {
  "kernelspec": {
   "display_name": "Python 3 (ipykernel)",
   "language": "python",
   "name": "python3"
  },
  "language_info": {
   "codemirror_mode": {
    "name": "ipython",
    "version": 3
   },
   "file_extension": ".py",
   "mimetype": "text/x-python",
   "name": "python",
   "nbconvert_exporter": "python",
   "pygments_lexer": "ipython3",
   "version": "3.11.3"
  }
 },
 "nbformat": 4,
 "nbformat_minor": 5
}
