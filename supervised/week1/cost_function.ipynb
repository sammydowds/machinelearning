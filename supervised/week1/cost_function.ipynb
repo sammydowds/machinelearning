{
 "cells": [
  {
   "cell_type": "markdown",
   "id": "1da39026",
   "metadata": {},
   "source": [
    "# Cost Function \n",
    "\n",
    "Measures the difference between the model's prediction and the true values. For linear regression, measure how well `w, b` fits the training data. \n",
    "\n",
    "A common function used for the cost function is the mean squarred error. \n",
    "\n",
    "$$\n",
    "J(w) = \\frac{1}{2m} \\Sigma_{i=1}^m (f_w(x^{(i)})-y^{(i)})^2\n",
    "$$"
   ]
  },
  {
   "cell_type": "code",
   "execution_count": null,
   "id": "c7c5d38e",
   "metadata": {},
   "outputs": [],
   "source": []
  }
 ],
 "metadata": {
  "kernelspec": {
   "display_name": "Python 3 (ipykernel)",
   "language": "python",
   "name": "python3"
  },
  "language_info": {
   "codemirror_mode": {
    "name": "ipython",
    "version": 3
   },
   "file_extension": ".py",
   "mimetype": "text/x-python",
   "name": "python",
   "nbconvert_exporter": "python",
   "pygments_lexer": "ipython3",
   "version": "3.11.3"
  }
 },
 "nbformat": 4,
 "nbformat_minor": 5
}
